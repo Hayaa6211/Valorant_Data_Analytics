{
 "cells": [
  {
   "cell_type": "code",
   "execution_count": 1,
   "metadata": {},
   "outputs": [],
   "source": [
    "import pandas as pd"
   ]
  },
  {
   "cell_type": "code",
   "execution_count": 9,
   "metadata": {},
   "outputs": [],
   "source": [
    "cols = [\n",
    "    \"Mode\",\n",
    "    \"Date\",                         #yyyy-mm-dd形式\n",
    "    \"Map\",                    #Haven,Bind,Acent,Split,Icebox,Bleeze,Fracture\n",
    "    \"Agent\",\n",
    "    \"Result\",\n",
    "    \"ATK_Round\",\n",
    "    \"DEF_Round\",\n",
    "    \"Enemy_Round\",\n",
    "    \"ATK_1stblood\",                 #チーム全体\n",
    "    \"DEF_1stblood\",                 #チーム全体\n",
    "    \"ATK_GetRound_after_1stblood\",\n",
    "    \"DEF_GetRound_after_1stblood\",\n",
    "    \"ATK_AllKill\",\n",
    "    \"DEF_AllKill\",\n",
    "    \"ATK_Plant\",\n",
    "    \"DEF_Plant\",\n",
    "    \"ATK_Plant_win\",\n",
    "    \"DEF_Plant_win\",\n",
    "    \"ATK_Defuse\",\n",
    "    \"DEF_Defuse\",\n",
    "    \"ATK_Detonation\",\n",
    "    \"DEF_Detonation\",\n",
    "    \"is_MVP\",\n",
    "    \"ACS\",\n",
    "    \"Kill\",\n",
    "    \"Death\",\n",
    "    \"Assist\",\n",
    "    \"MoneyRating\",\n",
    "    \"1stblood\",\n",
    "    \"Plant\",\n",
    "    \"Defuse\"\n",
    "]"
   ]
  },
  {
   "cell_type": "code",
   "execution_count": 3,
   "metadata": {},
   "outputs": [],
   "source": [
    "def Add_DB()->pd.DataFrame:\n",
    "    ll = []\n",
    "    while True:\n",
    "        l = []\n",
    "\n",
    "        for col in cols:\n",
    "            input_data = input(f\"{col}:\")\n",
    "            \n",
    "            if input_data == \"exit\":\n",
    "                break\n",
    "            else:\n",
    "                l.append(input_data)\n",
    "\n",
    "        if len(l) < len(cols):\n",
    "            input_data = input(\"やり直す？1でやり直し\")\n",
    "            if input_data == \"1\":\n",
    "                continue\n",
    "            else:\n",
    "                break\n",
    "        else:\n",
    "            ll.append(l)\n",
    "    print(ll)\n",
    "    return pd.DataFrame(ll,columns=cols)"
   ]
  },
  {
   "cell_type": "code",
   "execution_count": 4,
   "metadata": {},
   "outputs": [],
   "source": [
    "def write_to_csv(df:pd.DataFrame,file_path:str)->None:\n",
    "    df.to_csv(file_path,index=False)\n",
    "    return None\n",
    "\n",
    "def add_and_write(old_df:pd.DataFrame,file)->None:\n",
    "    df_append = Add_DB()\n",
    "    df = old_df.append(df_append)\n",
    "    write_to_csv(df,file)"
   ]
  },
  {
   "cell_type": "code",
   "execution_count": 16,
   "metadata": {},
   "outputs": [],
   "source": [
    "file = \"Battle_Report.csv\"\n",
    "df = pd.read_csv(file)"
   ]
  },
  {
   "cell_type": "code",
   "execution_count": 1,
   "metadata": {},
   "outputs": [
    {
     "ename": "NameError",
     "evalue": "name 'add_and_write' is not defined",
     "output_type": "error",
     "traceback": [
      "\u001b[1;31m---------------------------------------------------------------------------\u001b[0m",
      "\u001b[1;31mNameError\u001b[0m                                 Traceback (most recent call last)",
      "\u001b[1;32m<ipython-input-1-96a476815bd9>\u001b[0m in \u001b[0;36m<module>\u001b[1;34m\u001b[0m\n\u001b[1;32m----> 1\u001b[1;33m \u001b[0madd_and_write\u001b[0m\u001b[1;33m(\u001b[0m\u001b[0mdf\u001b[0m\u001b[1;33m,\u001b[0m\u001b[0mfile\u001b[0m\u001b[1;33m)\u001b[0m\u001b[1;33m\u001b[0m\u001b[1;33m\u001b[0m\u001b[0m\n\u001b[0m",
      "\u001b[1;31mNameError\u001b[0m: name 'add_and_write' is not defined"
     ]
    }
   ],
   "source": [
    "add_and_write(df,file)"
   ]
  },
  {
   "cell_type": "code",
   "execution_count": 12,
   "metadata": {},
   "outputs": [],
   "source": [
    "df = pd.read_csv(file)"
   ]
  },
  {
   "cell_type": "code",
   "execution_count": 15,
   "metadata": {},
   "outputs": [
    {
     "data": {
      "text/plain": [
       "(15, 31)"
      ]
     },
     "execution_count": 15,
     "metadata": {},
     "output_type": "execute_result"
    }
   ],
   "source": [
    "df.shape"
   ]
  },
  {
   "cell_type": "code",
   "execution_count": null,
   "metadata": {},
   "outputs": [],
   "source": [
    "df"
   ]
  },
  {
   "cell_type": "code",
   "execution_count": 2,
   "metadata": {},
   "outputs": [],
   "source": [
    "import json"
   ]
  },
  {
   "cell_type": "code",
   "execution_count": 23,
   "metadata": {},
   "outputs": [
    {
     "data": {
      "text/plain": [
       "{'Mode': ['Rank', 'Unrated'],\n",
       " 'Date': None,\n",
       " 'Map': ['Haven', 'Bind', 'Acent', 'Split', 'Icebox', 'Bleeze', 'Fracture'],\n",
       " 'Agent': ['Jett',\n",
       "  'Raze',\n",
       "  'Breach',\n",
       "  'Omen',\n",
       "  'Brimstone',\n",
       "  'Phoenix',\n",
       "  'Sage',\n",
       "  'Sova',\n",
       "  'Viper',\n",
       "  'Cypher',\n",
       "  'Reyna',\n",
       "  'Killjoy',\n",
       "  'Skye',\n",
       "  'Yoru',\n",
       "  'Astra',\n",
       "  'Kay/o',\n",
       "  'Chamber',\n",
       "  'Neon',\n",
       "  'Fade'],\n",
       " 'Result': ['win', 'lose', 'draw'],\n",
       " 'ATK_Round': None,\n",
       " 'DEF_Round': None,\n",
       " 'Enemy_Round': None,\n",
       " 'ATK_1stblood': None,\n",
       " 'DEF_1stblood': None,\n",
       " 'ATK_GetRound_after_1stblood': None,\n",
       " 'DEF_GetRound_after_1stblood': None,\n",
       " 'ATK_AllKill': None,\n",
       " 'DEF_AllKill': None,\n",
       " 'ATK_Plant': None,\n",
       " 'DEF_Plant': None,\n",
       " 'ATK_Plant_win': None,\n",
       " 'DEF_Plant_win': None,\n",
       " 'ATK_Defuse': None,\n",
       " 'DEF_Defuse': None,\n",
       " 'ATK_Detonation': None,\n",
       " 'DEF_Detonation': None,\n",
       " 'is_MVP': ['bool'],\n",
       " 'ACS': None,\n",
       " 'Kill': None,\n",
       " 'Death': None,\n",
       " 'Assist': None,\n",
       " 'MoneyRating': None,\n",
       " '1stblood': None,\n",
       " 'Plant': None,\n",
       " 'Defuse': None}"
      ]
     },
     "execution_count": 23,
     "metadata": {},
     "output_type": "execute_result"
    }
   ],
   "source": [
    "a = json.load(open(\"cols.json\",\"r\"))\n",
    "a"
   ]
  },
  {
   "cell_type": "code",
   "execution_count": 40,
   "metadata": {},
   "outputs": [],
   "source": [
    "from retry import retry\n",
    "\n",
    "@retry()\n",
    "def retry_def():\n",
    "    ll = []\n",
    "    for col in a:\n",
    "        print(str(type(a[col])))\n",
    "        input_data = input(f\"{col}:\")\n",
    "\n",
    "        if input_data == \"exit\":\n",
    "            break\n",
    "        elif (input_data in a[col]) or (type(a[col]) == None):\n",
    "            print(\"b\")\n",
    "        else:\n",
    "            print(\"a\")\n",
    "            raise Exception"
   ]
  },
  {
   "cell_type": "code",
   "execution_count": 41,
   "metadata": {},
   "outputs": [
    {
     "name": "stdout",
     "output_type": "stream",
     "text": [
      "<class 'list'>\n",
      "b\n",
      "<class 'NoneType'>\n",
      "<class 'list'>\n"
     ]
    }
   ],
   "source": [
    "retry_def()"
   ]
  },
  {
   "cell_type": "code",
   "execution_count": null,
   "metadata": {},
   "outputs": [],
   "source": []
  }
 ],
 "metadata": {
  "interpreter": {
   "hash": "7c5fd24fceab090f2c5c71fd4495c8eac52172cb8980890620cc96ba7288a84c"
  },
  "kernelspec": {
   "display_name": "Python 3.8.8 ('kaggle_conda')",
   "language": "python",
   "name": "python3"
  },
  "language_info": {
   "codemirror_mode": {
    "name": "ipython",
    "version": 3
   },
   "file_extension": ".py",
   "mimetype": "text/x-python",
   "name": "python",
   "nbconvert_exporter": "python",
   "pygments_lexer": "ipython3",
   "version": "3.8.8"
  },
  "orig_nbformat": 4
 },
 "nbformat": 4,
 "nbformat_minor": 2
}
