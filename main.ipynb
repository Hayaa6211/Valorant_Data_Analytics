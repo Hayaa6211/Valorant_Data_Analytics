{
 "cells": [
  {
   "cell_type": "code",
   "execution_count": 1,
   "metadata": {},
   "outputs": [],
   "source": [
    "import pandas as pd"
   ]
  },
  {
   "cell_type": "code",
   "execution_count": 9,
   "metadata": {},
   "outputs": [],
   "source": [
    "cols = [\n",
    "    \"Mode\",\n",
    "    \"Date\",                         #yyyy-mm-dd形式\n",
    "    \"Map\",                    #Haven,Bind,Acent,Split,Icebox,Bleeze,Fracture\n",
    "    \"Agent\",\n",
    "    \"Result\",\n",
    "    \"ATK_Round\",\n",
    "    \"DEF_Round\",\n",
    "    \"Enemy_Round\",\n",
    "    \"ATK_1stblood\",                 #チーム全体\n",
    "    \"DEF_1stblood\",                 #チーム全体\n",
    "    \"ATK_GetRound_after_1stblood\",\n",
    "    \"DEF_GetRound_after_1stblood\",\n",
    "    \"ATK_AllKill\",\n",
    "    \"DEF_AllKill\",\n",
    "    \"ATK_Plant\",\n",
    "    \"DEF_Plant\",\n",
    "    \"ATK_Plant_win\",\n",
    "    \"DEF_Plant_win\",\n",
    "    \"ATK_Defuse\",\n",
    "    \"DEF_Defuse\",\n",
    "    \"ATK_Detonation\",\n",
    "    \"DEF_Detonation\",\n",
    "    \"is_MVP\",\n",
    "    \"ACS\",\n",
    "    \"Kill\",\n",
    "    \"Death\",\n",
    "    \"Assist\",\n",
    "    \"MoneyRating\",\n",
    "    \"1stblood\",\n",
    "    \"Plant\",\n",
    "    \"Defuse\"\n",
    "]"
   ]
  },
  {
   "cell_type": "code",
   "execution_count": 3,
   "metadata": {},
   "outputs": [],
   "source": [
    "def Add_DB()->pd.DataFrame:\n",
    "    ll = []\n",
    "    while True:\n",
    "        l = []\n",
    "\n",
    "        for col in cols:\n",
    "            input_data = input(f\"{col}:\")\n",
    "            \n",
    "            if input_data == \"exit\":\n",
    "                break\n",
    "            else:\n",
    "                l.append(input_data)\n",
    "\n",
    "        if len(l) < len(cols):\n",
    "            input_data = input(\"やり直す？1でやり直し\")\n",
    "            if input_data == \"1\":\n",
    "                continue\n",
    "            else:\n",
    "                break\n",
    "        else:\n",
    "            ll.append(l)\n",
    "    print(ll)\n",
    "    return pd.DataFrame(ll,columns=cols)"
   ]
  },
  {
   "cell_type": "code",
   "execution_count": 4,
   "metadata": {},
   "outputs": [],
   "source": [
    "def write_to_csv(df:pd.DataFrame,file_path:str)->None:\n",
    "    df.to_csv(file_path,index=False)\n",
    "    return None\n",
    "\n",
    "def add_and_write(old_df:pd.DataFrame,file)->None:\n",
    "    df_append = Add_DB()\n",
    "    df = old_df.append(df_append)\n",
    "    write_to_csv(df,file)"
   ]
  },
  {
   "cell_type": "code",
   "execution_count": 16,
   "metadata": {},
   "outputs": [],
   "source": [
    "file = \"Battle_Report.csv\"\n",
    "df = pd.read_csv(file)"
   ]
  },
  {
   "cell_type": "code",
   "execution_count": 17,
   "metadata": {},
   "outputs": [
    {
     "name": "stdout",
     "output_type": "stream",
     "text": [
      "[['Rank', '2022-05-06', 'Icebox', 'Reyna', 'lose', '6', '5', '13', '4', '6', '2', '6', '5', '1', '12', '12', '6', '5', '3', '4', '1', '2', '0', '185', '15', '20', '3', '56', '4', '0', '0'], ['Rank', '2022-05-06', 'Split', 'Omen', 'lose', '6', '4', '13', '6', '3', '5', '2', '5', '2', '12', '11', '6', '4', '0', '2', '1', '0', '0', '199', '15', '23', '5', '50', '0', '0', '0'], ['Rank', '2022-05-29', 'Bleeze', 'Jett', 'lose', '2', '7', '13', '4', '7', '1', '5', '2', '5', '10', '12', '2', '7', '2', '2', '0', '0', '0', '269', '20', '17', '4', '73', '7', '0', '1'], ['Rank', '2022-06-02', 'Icebox', 'Chamber', 'win', '8', '5', '10', '9', '10', '6', '5', '7', '4', '11', '12', '8', '5', '1', '1', '1', '2', '0', '256', '21', '14', '3', '79', '7', '1', '1'], ['Rank', '2022-06-02', 'Acent', 'Reyna', 'win', '7', '6', '7', '8', '4', '7', '4', '7', '2', '12', '8', '7', '6', '3', '3', '0', '0', '1', '387', '30', '12', '3', '88', '3', '1', '1'], ['Rank', '2022-06-04', 'Fracture', 'Chamber', 'lose', '3', '0', '13', '5', '1', '3', '0', '3', '0', '12', '4', '3', '0', '4', '0', '0', '1', '0', '213', '10', '15', '5', '59', '2', '2', '0'], ['Rank', '2022-06-4', 'Split', 'Jett', 'lose', '4', '5', '13', '2', '8', '2', '4', '4', '3', '10', '12', '4', '5', '2', '2', '0', '0', '1', '255', '19', '18', '3', '61', '4', '1', '1']]\n"
     ]
    }
   ],
   "source": [
    "add_and_write(df,file)"
   ]
  },
  {
   "cell_type": "code",
   "execution_count": 12,
   "metadata": {},
   "outputs": [],
   "source": [
    "df = pd.read_csv(file)"
   ]
  },
  {
   "cell_type": "code",
   "execution_count": 15,
   "metadata": {},
   "outputs": [
    {
     "data": {
      "text/plain": [
       "(15, 31)"
      ]
     },
     "execution_count": 15,
     "metadata": {},
     "output_type": "execute_result"
    }
   ],
   "source": [
    "df.shape"
   ]
  },
  {
   "cell_type": "code",
   "execution_count": null,
   "metadata": {},
   "outputs": [],
   "source": [
    "df"
   ]
  }
 ],
 "metadata": {
  "interpreter": {
   "hash": "7c5fd24fceab090f2c5c71fd4495c8eac52172cb8980890620cc96ba7288a84c"
  },
  "kernelspec": {
   "display_name": "Python 3.8.8 ('kaggle_conda')",
   "language": "python",
   "name": "python3"
  },
  "language_info": {
   "codemirror_mode": {
    "name": "ipython",
    "version": 3
   },
   "file_extension": ".py",
   "mimetype": "text/x-python",
   "name": "python",
   "nbconvert_exporter": "python",
   "pygments_lexer": "ipython3",
   "version": "3.8.8"
  },
  "orig_nbformat": 4
 },
 "nbformat": 4,
 "nbformat_minor": 2
}
