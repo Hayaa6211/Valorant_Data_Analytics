{
 "cells": [
  {
   "cell_type": "code",
   "execution_count": 1,
   "metadata": {},
   "outputs": [],
   "source": [
    "import pandas as pd\n",
    "import seaborn as sns\n",
    "import numpy as np\n",
    "import matplotlib.pyplot as plt\n",
    "import patchworklib as pw\n",
    "%matplotlib inline\n",
    "sns.set()"
   ]
  },
  {
   "cell_type": "code",
   "execution_count": null,
   "metadata": {},
   "outputs": [],
   "source": [
    "df_valo = pd.read_csv(\"Battle_Report.csv\")"
   ]
  },
  {
   "cell_type": "code",
   "execution_count": null,
   "metadata": {},
   "outputs": [
    {
     "ename": "ValueError",
     "evalue": "'label' value should be unique in 'Brick._labelset'",
     "output_type": "error",
     "traceback": [
      "\u001b[1;31m---------------------------------------------------------------------------\u001b[0m",
      "\u001b[1;31mValueError\u001b[0m                                Traceback (most recent call last)",
      "\u001b[1;32mc:\\Users\\astro\\Documents\\input_valorant\\data_sns.ipynb Cell 3'\u001b[0m in \u001b[0;36m<cell line: 5>\u001b[1;34m()\u001b[0m\n\u001b[0;32m      <a href='vscode-notebook-cell:/c%3A/Users/astro/Documents/input_valorant/data_sns.ipynb#ch0000007?line=0'>1</a>\u001b[0m df \u001b[39m=\u001b[39m df_valo[[\u001b[39m\"\u001b[39m\u001b[39mResult\u001b[39m\u001b[39m\"\u001b[39m,\u001b[39m\"\u001b[39m\u001b[39mATK_Round\u001b[39m\u001b[39m\"\u001b[39m,\u001b[39m\"\u001b[39m\u001b[39mDEF_Round\u001b[39m\u001b[39m\"\u001b[39m,\u001b[39m\"\u001b[39m\u001b[39mis_MVP\u001b[39m\u001b[39m\"\u001b[39m,\u001b[39m\"\u001b[39m\u001b[39mACS\u001b[39m\u001b[39m\"\u001b[39m,\u001b[39m\"\u001b[39m\u001b[39mKill\u001b[39m\u001b[39m\"\u001b[39m,\u001b[39m\"\u001b[39m\u001b[39mDeath\u001b[39m\u001b[39m\"\u001b[39m,\u001b[39m\"\u001b[39m\u001b[39m1stblood\u001b[39m\u001b[39m\"\u001b[39m,\u001b[39m\"\u001b[39m\u001b[39m1stblood\u001b[39m\u001b[39m\"\u001b[39m,\u001b[39m\"\u001b[39m\u001b[39mDefuse\u001b[39m\u001b[39m\"\u001b[39m]]\n\u001b[0;32m      <a href='vscode-notebook-cell:/c%3A/Users/astro/Documents/input_valorant/data_sns.ipynb#ch0000007?line=2'>3</a>\u001b[0m tmp \u001b[39m=\u001b[39m df_valo[\u001b[39m\"\u001b[39m\u001b[39mAgent\u001b[39m\u001b[39m\"\u001b[39m]\u001b[39m.\u001b[39munique()\u001b[39m.\u001b[39mtolist()\n\u001b[1;32m----> <a href='vscode-notebook-cell:/c%3A/Users/astro/Documents/input_valorant/data_sns.ipynb#ch0000007?line=4'>5</a>\u001b[0m agent_ \u001b[39m=\u001b[39m [pw\u001b[39m.\u001b[39mBrick(\u001b[39mf\u001b[39m\u001b[39m\"\u001b[39m\u001b[39max\u001b[39m\u001b[39m{\u001b[39;00mi\u001b[39m}\u001b[39;00m\u001b[39m\"\u001b[39m, figsize\u001b[39m=\u001b[39m(\u001b[39m2\u001b[39m,\u001b[39m2\u001b[39m)) \u001b[39mfor\u001b[39;00m i \u001b[39min\u001b[39;00m \u001b[39mrange\u001b[39m(\u001b[39mlen\u001b[39m(tmp))]\n\u001b[0;32m      <a href='vscode-notebook-cell:/c%3A/Users/astro/Documents/input_valorant/data_sns.ipynb#ch0000007?line=6'>7</a>\u001b[0m \u001b[39mfor\u001b[39;00m i,agent \u001b[39min\u001b[39;00m \u001b[39menumerate\u001b[39m(tmp):\n\u001b[0;32m      <a href='vscode-notebook-cell:/c%3A/Users/astro/Documents/input_valorant/data_sns.ipynb#ch0000007?line=8'>9</a>\u001b[0m     t \u001b[39m=\u001b[39m sns\u001b[39m.\u001b[39mpairplot(data\u001b[39m=\u001b[39magent,hue\u001b[39m=\u001b[39m\u001b[39m\"\u001b[39m\u001b[39mResult\u001b[39m\u001b[39m\"\u001b[39m,ax\u001b[39m=\u001b[39magent_[i])\n",
      "\u001b[1;32mc:\\Users\\astro\\Documents\\input_valorant\\data_sns.ipynb Cell 3'\u001b[0m in \u001b[0;36m<listcomp>\u001b[1;34m(.0)\u001b[0m\n\u001b[0;32m      <a href='vscode-notebook-cell:/c%3A/Users/astro/Documents/input_valorant/data_sns.ipynb#ch0000007?line=0'>1</a>\u001b[0m df \u001b[39m=\u001b[39m df_valo[[\u001b[39m\"\u001b[39m\u001b[39mResult\u001b[39m\u001b[39m\"\u001b[39m,\u001b[39m\"\u001b[39m\u001b[39mATK_Round\u001b[39m\u001b[39m\"\u001b[39m,\u001b[39m\"\u001b[39m\u001b[39mDEF_Round\u001b[39m\u001b[39m\"\u001b[39m,\u001b[39m\"\u001b[39m\u001b[39mis_MVP\u001b[39m\u001b[39m\"\u001b[39m,\u001b[39m\"\u001b[39m\u001b[39mACS\u001b[39m\u001b[39m\"\u001b[39m,\u001b[39m\"\u001b[39m\u001b[39mKill\u001b[39m\u001b[39m\"\u001b[39m,\u001b[39m\"\u001b[39m\u001b[39mDeath\u001b[39m\u001b[39m\"\u001b[39m,\u001b[39m\"\u001b[39m\u001b[39m1stblood\u001b[39m\u001b[39m\"\u001b[39m,\u001b[39m\"\u001b[39m\u001b[39m1stblood\u001b[39m\u001b[39m\"\u001b[39m,\u001b[39m\"\u001b[39m\u001b[39mDefuse\u001b[39m\u001b[39m\"\u001b[39m]]\n\u001b[0;32m      <a href='vscode-notebook-cell:/c%3A/Users/astro/Documents/input_valorant/data_sns.ipynb#ch0000007?line=2'>3</a>\u001b[0m tmp \u001b[39m=\u001b[39m df_valo[\u001b[39m\"\u001b[39m\u001b[39mAgent\u001b[39m\u001b[39m\"\u001b[39m]\u001b[39m.\u001b[39munique()\u001b[39m.\u001b[39mtolist()\n\u001b[1;32m----> <a href='vscode-notebook-cell:/c%3A/Users/astro/Documents/input_valorant/data_sns.ipynb#ch0000007?line=4'>5</a>\u001b[0m agent_ \u001b[39m=\u001b[39m [pw\u001b[39m.\u001b[39;49mBrick(\u001b[39mf\u001b[39;49m\u001b[39m\"\u001b[39;49m\u001b[39max\u001b[39;49m\u001b[39m{\u001b[39;49;00mi\u001b[39m}\u001b[39;49;00m\u001b[39m\"\u001b[39;49m, figsize\u001b[39m=\u001b[39;49m(\u001b[39m2\u001b[39;49m,\u001b[39m2\u001b[39;49m)) \u001b[39mfor\u001b[39;00m i \u001b[39min\u001b[39;00m \u001b[39mrange\u001b[39m(\u001b[39mlen\u001b[39m(tmp))]\n\u001b[0;32m      <a href='vscode-notebook-cell:/c%3A/Users/astro/Documents/input_valorant/data_sns.ipynb#ch0000007?line=6'>7</a>\u001b[0m \u001b[39mfor\u001b[39;00m i,agent \u001b[39min\u001b[39;00m \u001b[39menumerate\u001b[39m(tmp):\n\u001b[0;32m      <a href='vscode-notebook-cell:/c%3A/Users/astro/Documents/input_valorant/data_sns.ipynb#ch0000007?line=8'>9</a>\u001b[0m     t \u001b[39m=\u001b[39m sns\u001b[39m.\u001b[39mpairplot(data\u001b[39m=\u001b[39magent,hue\u001b[39m=\u001b[39m\u001b[39m\"\u001b[39m\u001b[39mResult\u001b[39m\u001b[39m\"\u001b[39m,ax\u001b[39m=\u001b[39magent_[i])\n",
      "File \u001b[1;32mc:\\Users\\astro\\anaconda3\\envs\\kaggle_conda\\lib\\site-packages\\patchworklib\\patchworklib.py:1939\u001b[0m, in \u001b[0;36mBrick.__init__\u001b[1;34m(self, label, figsize, ax)\u001b[0m\n\u001b[0;32m   1936\u001b[0m     \u001b[39m#raise TypeError(\"__init__() missing 1 required positional argument: 'label'\") \u001b[39;00m\n\u001b[0;32m   1938\u001b[0m \u001b[39mif\u001b[39;00m label \u001b[39min\u001b[39;00m Brick\u001b[39m.\u001b[39m_labelset:\n\u001b[1;32m-> 1939\u001b[0m     \u001b[39mraise\u001b[39;00m \u001b[39mValueError\u001b[39;00m(\u001b[39m\"\u001b[39m\u001b[39m'\u001b[39m\u001b[39mlabel\u001b[39m\u001b[39m'\u001b[39m\u001b[39m value should be unique in \u001b[39m\u001b[39m'\u001b[39m\u001b[39mBrick._labelset\u001b[39m\u001b[39m'\u001b[39m\u001b[39m\"\u001b[39m)\n\u001b[0;32m   1940\u001b[0m Brick\u001b[39m.\u001b[39m_labelset\u001b[39m.\u001b[39madd(label) \n\u001b[0;32m   1941\u001b[0m \u001b[39mself\u001b[39m\u001b[39m.\u001b[39mset_label(label) \n",
      "\u001b[1;31mValueError\u001b[0m: 'label' value should be unique in 'Brick._labelset'"
     ]
    }
   ],
   "source": [
    "df = df_valo[[\"Result\",\"ATK_Round\",\"DEF_Round\",\"is_MVP\",\"ACS\",\"Kill\",\"Death\",\"1stblood\",\"1stblood\",\"Defuse\"]]\n",
    "\n",
    "tmp = df_valo[\"Agent\"].unique().tolist()\n",
    "\n",
    "agent_ = [pw.Brick(f\"ax{i}\", figsize=(2,2)) for i in range(len(tmp))]\n",
    "\n",
    "for i,agent in enumerate(tmp):\n",
    "    \n",
    "    t = sns.pairplot(data=agent,hue=\"Result\",ax=agent_[i])\n",
    "\n",
    "type(agent_[i])"
   ]
  },
  {
   "cell_type": "code",
   "execution_count": null,
   "metadata": {},
   "outputs": [],
   "source": []
  }
 ],
 "metadata": {
  "interpreter": {
   "hash": "7c5fd24fceab090f2c5c71fd4495c8eac52172cb8980890620cc96ba7288a84c"
  },
  "kernelspec": {
   "display_name": "Python 3.8.8 ('kaggle_conda')",
   "language": "python",
   "name": "python3"
  },
  "language_info": {
   "codemirror_mode": {
    "name": "ipython",
    "version": 3
   },
   "file_extension": ".py",
   "mimetype": "text/x-python",
   "name": "python",
   "nbconvert_exporter": "python",
   "pygments_lexer": "ipython3",
   "version": "3.9.7"
  },
  "orig_nbformat": 4
 },
 "nbformat": 4,
 "nbformat_minor": 2
}
