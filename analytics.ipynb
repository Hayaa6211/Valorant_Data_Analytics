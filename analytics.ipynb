{
 "cells": [
  {
   "cell_type": "code",
   "execution_count": 31,
   "metadata": {},
   "outputs": [],
   "source": [
    "import pandas as pd"
   ]
  },
  {
   "cell_type": "code",
   "execution_count": 32,
   "metadata": {},
   "outputs": [],
   "source": [
    "file = \"Battle_Report.csv\"\n",
    "df = pd.read_csv(file)"
   ]
  },
  {
   "cell_type": "code",
   "execution_count": 33,
   "metadata": {},
   "outputs": [
    {
     "data": {
      "text/plain": [
       "(29, 31)"
      ]
     },
     "execution_count": 33,
     "metadata": {},
     "output_type": "execute_result"
    }
   ],
   "source": [
    "df.shape"
   ]
  },
  {
   "cell_type": "code",
   "execution_count": 34,
   "metadata": {},
   "outputs": [
    {
     "data": {
      "text/html": [
       "<div>\n",
       "<style scoped>\n",
       "    .dataframe tbody tr th:only-of-type {\n",
       "        vertical-align: middle;\n",
       "    }\n",
       "\n",
       "    .dataframe tbody tr th {\n",
       "        vertical-align: top;\n",
       "    }\n",
       "\n",
       "    .dataframe thead th {\n",
       "        text-align: right;\n",
       "    }\n",
       "</style>\n",
       "<table border=\"1\" class=\"dataframe\">\n",
       "  <thead>\n",
       "    <tr style=\"text-align: right;\">\n",
       "      <th></th>\n",
       "      <th>Mode</th>\n",
       "      <th>Date</th>\n",
       "      <th>Map</th>\n",
       "      <th>Agent</th>\n",
       "      <th>Result</th>\n",
       "      <th>ATK_Round</th>\n",
       "      <th>DEF_Round</th>\n",
       "      <th>Enemy_Round</th>\n",
       "      <th>ATK_1stblood</th>\n",
       "      <th>DEF_1stblood</th>\n",
       "      <th>...</th>\n",
       "      <th>DEF_Detonation</th>\n",
       "      <th>is_MVP</th>\n",
       "      <th>ACS</th>\n",
       "      <th>Kill</th>\n",
       "      <th>Death</th>\n",
       "      <th>Assist</th>\n",
       "      <th>MoneyRating</th>\n",
       "      <th>1stblood</th>\n",
       "      <th>Plant</th>\n",
       "      <th>Defuse</th>\n",
       "    </tr>\n",
       "  </thead>\n",
       "  <tbody>\n",
       "    <tr>\n",
       "      <th>1</th>\n",
       "      <td>Unrated</td>\n",
       "      <td>2022-05-23</td>\n",
       "      <td>Split</td>\n",
       "      <td>Jett</td>\n",
       "      <td>lose</td>\n",
       "      <td>0</td>\n",
       "      <td>1</td>\n",
       "      <td>6</td>\n",
       "      <td>0</td>\n",
       "      <td>2</td>\n",
       "      <td>...</td>\n",
       "      <td>1</td>\n",
       "      <td>0</td>\n",
       "      <td>121</td>\n",
       "      <td>7</td>\n",
       "      <td>6</td>\n",
       "      <td>0</td>\n",
       "      <td>74</td>\n",
       "      <td>0</td>\n",
       "      <td>0</td>\n",
       "      <td>0</td>\n",
       "    </tr>\n",
       "    <tr>\n",
       "      <th>13</th>\n",
       "      <td>Unrated</td>\n",
       "      <td>2022-05-31</td>\n",
       "      <td>Haven</td>\n",
       "      <td>Jett</td>\n",
       "      <td>lose</td>\n",
       "      <td>8</td>\n",
       "      <td>4</td>\n",
       "      <td>13</td>\n",
       "      <td>7</td>\n",
       "      <td>5</td>\n",
       "      <td>...</td>\n",
       "      <td>2</td>\n",
       "      <td>1</td>\n",
       "      <td>381</td>\n",
       "      <td>34</td>\n",
       "      <td>16</td>\n",
       "      <td>1</td>\n",
       "      <td>86</td>\n",
       "      <td>6</td>\n",
       "      <td>0</td>\n",
       "      <td>1</td>\n",
       "    </tr>\n",
       "  </tbody>\n",
       "</table>\n",
       "<p>2 rows × 31 columns</p>\n",
       "</div>"
      ],
      "text/plain": [
       "       Mode        Date    Map Agent Result  ATK_Round  DEF_Round  \\\n",
       "1   Unrated  2022-05-23  Split  Jett   lose          0          1   \n",
       "13  Unrated  2022-05-31  Haven  Jett   lose          8          4   \n",
       "\n",
       "    Enemy_Round  ATK_1stblood  DEF_1stblood  ...  DEF_Detonation  is_MVP  ACS  \\\n",
       "1             6             0             2  ...               1       0  121   \n",
       "13           13             7             5  ...               2       1  381   \n",
       "\n",
       "    Kill  Death  Assist  MoneyRating  1stblood  Plant  Defuse  \n",
       "1      7      6       0           74         0      0       0  \n",
       "13    34     16       1           86         6      0       1  \n",
       "\n",
       "[2 rows x 31 columns]"
      ]
     },
     "execution_count": 34,
     "metadata": {},
     "output_type": "execute_result"
    }
   ],
   "source": [
    "df_Jett_win  = df[(df[\"Result\"] == \"win\") & (df[\"Agent\"] == \"Jett\")]\n",
    "df_Jett_lose = df[(df[\"Result\"] == \"lose\") & (df[\"Agent\"] == \"Jett\")]\n",
    "df_Jett_lose\n",
    "df_Jett_lose.head(2)"
   ]
  },
  {
   "cell_type": "code",
   "execution_count": 35,
   "metadata": {},
   "outputs": [
    {
     "name": "stdout",
     "output_type": "stream",
     "text": [
      "ジェットの勝率:0.5\n"
     ]
    }
   ],
   "source": [
    "print(f\"ジェットの勝率:{len(df_Jett_win)/(len(df_Jett_win)+len(df_Jett_lose))}\")"
   ]
  },
  {
   "cell_type": "code",
   "execution_count": 36,
   "metadata": {},
   "outputs": [
    {
     "name": "stdout",
     "output_type": "stream",
     "text": [
      "全体の勝率:0.55\n",
      "Chamberの勝率:0.67\n",
      "Jettの勝率:0.5\n",
      "Skyeの勝率:0.0\n",
      "Cypherの勝率:0.67\n",
      "Reynaの勝率:0.6\n",
      "Omenの勝率:0.5\n"
     ]
    }
   ],
   "source": [
    "Agent_list=df[\"Agent\"].unique().tolist()\n",
    "\n",
    "win = df[df[\"Result\"] == \"win\"][\"Result\"]\n",
    "lose = df[df[\"Result\"] == \"lose\"][\"Result\"]\n",
    "print(f\"全体の勝率:{round(len(win)/(len(win)+len(lose)),2)}\")\n",
    "\n",
    "for agent in Agent_list:\n",
    "    win = df[(df[\"Agent\"] == agent) & (df[\"Result\"] == \"win\")][\"Result\"]\n",
    "    lose = df[(df[\"Agent\"] == agent) & (df[\"Result\"] == \"lose\")][\"Result\"]\n",
    "\n",
    "    print(f\"{agent}の勝率:{round(len(win)/(len(win)+len(lose)),2)}\")"
   ]
  }
 ],
 "metadata": {
  "interpreter": {
   "hash": "7c5fd24fceab090f2c5c71fd4495c8eac52172cb8980890620cc96ba7288a84c"
  },
  "kernelspec": {
   "display_name": "Python 3.8.8 ('kaggle_conda')",
   "language": "python",
   "name": "python3"
  },
  "language_info": {
   "codemirror_mode": {
    "name": "ipython",
    "version": 3
   },
   "file_extension": ".py",
   "mimetype": "text/x-python",
   "name": "python",
   "nbconvert_exporter": "python",
   "pygments_lexer": "ipython3",
   "version": "3.10.4"
  },
  "orig_nbformat": 4
 },
 "nbformat": 4,
 "nbformat_minor": 2
}
